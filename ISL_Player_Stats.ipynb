{
  "nbformat": 4,
  "nbformat_minor": 0,
  "metadata": {
    "colab": {
      "name": "ISL-Player-Stats.ipynb",
      "provenance": [],
      "authorship_tag": "ABX9TyPSN9POD/W1dUyNRDXLecDA",
      "include_colab_link": true
    },
    "kernelspec": {
      "name": "python3",
      "display_name": "Python 3"
    },
    "language_info": {
      "name": "python"
    }
  },
  "cells": [
    {
      "cell_type": "markdown",
      "metadata": {
        "id": "view-in-github",
        "colab_type": "text"
      },
      "source": [
        "<a href=\"https://colab.research.google.com/github/rohanjaiswal2001/ISL-Player-Stats/blob/main/ISL_Player_Stats.ipynb\" target=\"_parent\"><img src=\"https://colab.research.google.com/assets/colab-badge.svg\" alt=\"Open In Colab\"/></a>"
      ]
    },
    {
      "cell_type": "code",
      "metadata": {
        "id": "EvwP8c10HaHc"
      },
      "source": [
        "import io\n",
        "import numpy as np\n",
        "import pandas as pd\n",
        "from copy import deepcopy\n",
        "from google.colab import files"
      ],
      "execution_count": 1,
      "outputs": []
    },
    {
      "cell_type": "code",
      "metadata": {
        "id": "VrxoD8mufA6l"
      },
      "source": [
        "import matplotlib.pyplot as plt\n",
        "import seaborn as sns\n",
        "import plotly.express as px"
      ],
      "execution_count": 2,
      "outputs": []
    },
    {
      "cell_type": "code",
      "metadata": {
        "colab": {
          "resources": {
            "http://localhost:8080/nbextensions/google.colab/files.js": {
              "data": "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",
              "ok": true,
              "headers": [
                [
                  "content-type",
                  "application/javascript"
                ]
              ],
              "status": 200,
              "status_text": "OK"
            }
          },
          "base_uri": "https://localhost:8080/",
          "height": 78
        },
        "id": "RLrXBGrHfGIU",
        "outputId": "3513b436-ae77-42ce-d920-776b2a3d5202"
      },
      "source": [
        "uploaded = files.upload()"
      ],
      "execution_count": 3,
      "outputs": [
        {
          "output_type": "display_data",
          "data": {
            "text/html": [
              "\n",
              "     <input type=\"file\" id=\"files-f36ab3f4-a2b3-47e8-9db7-4e211a3c4378\" name=\"files[]\" multiple disabled\n",
              "        style=\"border:none\" />\n",
              "     <output id=\"result-f36ab3f4-a2b3-47e8-9db7-4e211a3c4378\">\n",
              "      Upload widget is only available when the cell has been executed in the\n",
              "      current browser session. Please rerun this cell to enable.\n",
              "      </output>\n",
              "      <script src=\"/nbextensions/google.colab/files.js\"></script> "
            ],
            "text/plain": [
              "<IPython.core.display.HTML object>"
            ]
          },
          "metadata": {
            "tags": []
          }
        },
        {
          "output_type": "stream",
          "text": [
            "Saving isl_player_final(1).csv to isl_player_final(1).csv\n"
          ],
          "name": "stdout"
        }
      ]
    },
    {
      "cell_type": "code",
      "metadata": {
        "id": "I2r7jkgqfpbI"
      },
      "source": [
        "isl_df = pd.read_csv(io.BytesIO(uploaded['isl_player_final(1).csv']))\n",
        "isl_df"
      ],
      "execution_count": null,
      "outputs": []
    },
    {
      "cell_type": "code",
      "metadata": {
        "id": "G11-zYqYgB7T"
      },
      "source": [
        "isl_df.info()"
      ],
      "execution_count": null,
      "outputs": []
    },
    {
      "cell_type": "code",
      "metadata": {
        "id": "pvVQVw5ggGba"
      },
      "source": [
        "isl_df.describe().round(1)"
      ],
      "execution_count": null,
      "outputs": []
    },
    {
      "cell_type": "markdown",
      "metadata": {
        "id": "rTXQi3Tfif9G"
      },
      "source": [
        "Position Id's\n",
        "1. - Defender\n",
        "2. - Forward\n",
        "3. - Midfielder"
      ]
    },
    {
      "cell_type": "code",
      "metadata": {
        "colab": {
          "base_uri": "https://localhost:8080/"
        },
        "id": "q3MD68ztgLxP",
        "outputId": "cb00ef32-4736-4862-d309-4bf646294c99"
      },
      "source": [
        "isl_df[(isl_df[\"minutes_played\"] > 1500) & (isl_df[\"country_id\"] == 1)].shape"
      ],
      "execution_count": 7,
      "outputs": [
        {
          "output_type": "execute_result",
          "data": {
            "text/plain": [
              "(49, 93)"
            ]
          },
          "metadata": {
            "tags": []
          },
          "execution_count": 7
        }
      ]
    },
    {
      "cell_type": "code",
      "metadata": {
        "id": "myBmZC2YUIno"
      },
      "source": [
        "isl_df[(isl_df[\"country_id\"] == 1) & (isl_df[\"position_id\"] == 2)]"
      ],
      "execution_count": null,
      "outputs": []
    },
    {
      "cell_type": "markdown",
      "metadata": {
        "id": "pM86cGoRk2gL"
      },
      "source": [
        "Creating Variables for Players of different positions"
      ]
    },
    {
      "cell_type": "code",
      "metadata": {
        "id": "hvdaGF0Q0LFK"
      },
      "source": [
        "indian_forwards = deepcopy(isl_df[(isl_df[\"country_id\"] == 1) & (isl_df[\"position_id\"] == 2)])"
      ],
      "execution_count": 19,
      "outputs": []
    },
    {
      "cell_type": "code",
      "metadata": {
        "id": "CYBTG_f7izeY"
      },
      "source": [
        "indian_midfielders = deepcopy(isl_df[(isl_df[\"country_id\"] == 1) & (isl_df[\"position_id\"] == 3)])\n"
      ],
      "execution_count": 20,
      "outputs": []
    },
    {
      "cell_type": "code",
      "metadata": {
        "id": "s_zzPdZxi0Bs"
      },
      "source": [
        "indian_defenders = deepcopy(isl_df[(isl_df[\"country_id\"] == 1) & (isl_df[\"position_id\"] == 1)])\n"
      ],
      "execution_count": 21,
      "outputs": []
    },
    {
      "cell_type": "code",
      "metadata": {
        "id": "6_63nkC0i80V"
      },
      "source": [
        "indian_forwards.reset_index(drop=True, inplace=True)\n",
        "indian_midfielders.reset_index(drop=True, inplace=True)\n",
        "indian_defenders.reset_index(drop=True, inplace=True)"
      ],
      "execution_count": 22,
      "outputs": []
    },
    {
      "cell_type": "markdown",
      "metadata": {
        "id": "LXyZZQatjN1h"
      },
      "source": [
        "Leveling and Scaling for Per90 Stats"
      ]
    },
    {
      "cell_type": "code",
      "metadata": {
        "id": "jg0u1cS9jTar"
      },
      "source": [
        "#Minutes played by players\n",
        "fwd_mins_df = indian_forwards.groupby([\"id\", \"name\"])[\"minutes_played\"].sum().reset_index()\n",
        "md_mins_df = indian_midfielders.groupby([\"id\", \"name\"])[\"minutes_played\"].sum().reset_index()\n",
        "def_mins_df = indian_defenders.groupby([\"id\", \"name\"])[\"minutes_played\"].sum().reset_index()"
      ],
      "execution_count": 28,
      "outputs": []
    },
    {
      "cell_type": "code",
      "metadata": {
        "colab": {
          "base_uri": "https://localhost:8080/",
          "height": 542
        },
        "id": "CKILlrBzjdDu",
        "outputId": "45a017e2-b18c-4f30-b885-69f5a6a37e59"
      },
      "source": [
        "#Plotting minutes played by players on a Bar Graph\n",
        "px.bar(x=\"name\", y=\"minutes_played\", text=\"minutes_played\", data_frame=fwd_mins_df)\n",
        "px.bar(x=\"name\", y=\"minutes_played\", text=\"minutes_played\", data_frame=md_mins_df)\n",
        "px.bar(x=\"name\", y=\"minutes_played\", text=\"minutes_played\", data_frame=def_mins_df)"
      ],
      "execution_count": 29,
      "outputs": [
        {
          "output_type": "display_data",
          "data": {
            "text/html": [
              "<html>\n",
              "<head><meta charset=\"utf-8\" /></head>\n",
              "<body>\n",
              "    <div>\n",
              "            <script src=\"https://cdnjs.cloudflare.com/ajax/libs/mathjax/2.7.5/MathJax.js?config=TeX-AMS-MML_SVG\"></script><script type=\"text/javascript\">if (window.MathJax) {MathJax.Hub.Config({SVG: {font: \"STIX-Web\"}});}</script>\n",
              "                <script type=\"text/javascript\">window.PlotlyConfig = {MathJaxConfig: 'local'};</script>\n",
              "        <script src=\"https://cdn.plot.ly/plotly-latest.min.js\"></script>    \n",
              "            <div id=\"333560be-b4ef-4f52-abe2-3cd547239ddb\" class=\"plotly-graph-div\" style=\"height:525px; width:100%;\"></div>\n",
              "            <script type=\"text/javascript\">\n",
              "                \n",
              "                    window.PLOTLYENV=window.PLOTLYENV || {};\n",
              "                    \n",
              "                if (document.getElementById(\"333560be-b4ef-4f52-abe2-3cd547239ddb\")) {\n",
              "                    Plotly.newPlot(\n",
              "                        '333560be-b4ef-4f52-abe2-3cd547239ddb',\n",
              "                        [{\"alignmentgroup\": \"True\", \"hoverlabel\": {\"namelength\": 0}, \"hovertemplate\": \"name=%{x}<br>minutes_played=%{text}\", \"legendgroup\": \"\", \"marker\": {\"color\": \"#636efa\"}, \"name\": \"\", \"offsetgroup\": \"\", \"orientation\": \"v\", \"showlegend\": false, \"text\": [534.0, 1519.0, 383.0, 1082.0, 2982.0, 2860.0, 1892.0, 720.0, 21.0, 0.0, 791.0, 1619.0, 1406.0, 3870.0, 1616.0, 1.0, 264.0, 1035.0, 0.0, 3135.0, 326.0, 0.0, 2345.0, 1624.0, 2401.0, 2649.0, 533.0, 91.0, 2231.0, 515.0, 1630.0, 3338.0, 725.0, 879.0, 670.0, 989.0, 231.0, 0.0, 914.0, 68.0, 3181.0, 488.0, 439.0, 977.0, 1803.0, 405.0, 2158.0, 186.0, 71.0, 1674.0, 2012.0, 676.0, 0.0, 311.0, 0.0, 600.0, 2.0, 1114.0, 2411.0, 729.0, 2554.0, 743.0, 1425.0, 742.0, 2373.0, 229.0, 40.0, 82.0, 0.0, 1699.0, 2066.0, 850.0, 1150.0, 924.0, 355.0, 1473.0, 1800.0, 0.0, 501.0, 2816.0, 170.0, 0.0, 128.0, 47.0, 45.0, 152.0, 171.0, 0.0, 44.0, 0.0, 56.0], \"textposition\": \"auto\", \"type\": \"bar\", \"x\": [\"Anas Edathodika\", \"Gurjinder Kumar\", \"Salam Ranjan Singh\", \"Mandar Rao Dessai\", \"Narayan Das\", \"Prabir Das\", \"Sandesh Jhingan\", \"Sauvik Alok Chakrabarti\", \"Shouvik Debkumar Ghosh\", \"Soraisam Pritam Kumar Singh\", \"Robin Gurung\", \"Harmanjot Singh Khabra\", \"Ashutosh Mehta\", \"Pritam Kotal\", \"Raju Eknath Gaikwad\", \"Rino Anto\", \"Keegan Pereira\", \"Gurtej Singh\", \"Augustin Melwin Fernandes\", \"Keisham Reagan Singh\", \"Lalchhuanmawia Fanai\", \"Keenan Almeida\", \"Rahul Shankar Bheke\", \"Chinglensana Singh Konsham\", \"Pratik Prabhakar Chaudhari\", \"Jerry Lalrinzuala\", \"Lalruatthara\", \"Gursimrat Singh Gill\", \"Nishu Kumar Tashni\", \"Mohammad Sajid Dhot\", \"Amey Ganesh Ranawade\", \"Seriton Benny Fernandes\", \"Wayne Vaz\", \"Joyner Monte Lourenco\", \"Rana Gharami\", \"Nim Dorjee Tamang\", \"Mohamed Ali\", \"Amit Tudu\", \"Mohammed Yasir\", \"Sairuat Kima\", \"Subhasish Prodyut Bose\", \"Abdul Hakku Nediyodath\", \"Jitendra Singh\", \"Hendry Antonay\", \"Sarthak Golui\", \"Aibanbha Kupar Dohling\", \"Laldinliana Renthlei\", \"Kamalpreet Singh\", \"Abhishek Ambekar\", \"Ricky Lallawmawma\", \"Rakesh Pradhan\", \"Provat Lakra\", \"Kynsailang Khongsit\", \"Mohamed Irshad Thaivalappil\", \"Samad Ali Mallick\", \"Mehtab Singh\", \"Tarif Akhand\", \"Deepak Tangri\", \"Gaurav Bora\", \"Mashoor Shereef Thangalakath\", \"Asish Rai\", \"Ngasepam Tondonba Singh\", \"Sumit Rathi\", \"Sahil Panwar\", \"Shubham Sarangi\", \"Karan Amin\", \"Namgyal Bhutia\", \"Reamsochung Chongompipa Aimol\", \"Manash Protim Gogoi\", \"Mohamad Rakip\", \"Saviour Gama\", \"Ankit Mukherjee\", \"Soraisham Sandeep Singh\", \"Parag Satish Srivas\", \"Sandip Mandi\", \"Narender Gahlot\", \"Akash Mishra\", \"Nabin Rabha\", \"Ajith Kumar Kamaraj\", \"Jessel Allan Carneiro\", \"Hmingthanmawia\", \"Joe Zoherliana\", \"Saurabh Meher\", \"Wungngayam Muirang\", \"Dimple Bhagat\", \"Sanson Pereira\", \"George D'souza\", \"Nikhil Prabhu\", \"Ningthoukhongjam Rohen Singh\", \"Biswa Darjee\", \"Leander D'Cunha\"], \"xaxis\": \"x\", \"y\": [534, 1519, 383, 1082, 2982, 2860, 1892, 720, 21, 0, 791, 1619, 1406, 3870, 1616, 1, 264, 1035, 0, 3135, 326, 0, 2345, 1624, 2401, 2649, 533, 91, 2231, 515, 1630, 3338, 725, 879, 670, 989, 231, 0, 914, 68, 3181, 488, 439, 977, 1803, 405, 2158, 186, 71, 1674, 2012, 676, 0, 311, 0, 600, 2, 1114, 2411, 729, 2554, 743, 1425, 742, 2373, 229, 40, 82, 0, 1699, 2066, 850, 1150, 924, 355, 1473, 1800, 0, 501, 2816, 170, 0, 128, 47, 45, 152, 171, 0, 44, 0, 56], \"yaxis\": \"y\"}],\n",
              "                        {\"barmode\": \"relative\", \"legend\": {\"tracegroupgap\": 0}, \"margin\": {\"t\": 60}, \"template\": {\"data\": {\"bar\": [{\"error_x\": {\"color\": \"#2a3f5f\"}, \"error_y\": {\"color\": \"#2a3f5f\"}, \"marker\": {\"line\": {\"color\": \"#E5ECF6\", \"width\": 0.5}}, \"type\": \"bar\"}], \"barpolar\": [{\"marker\": {\"line\": {\"color\": \"#E5ECF6\", \"width\": 0.5}}, \"type\": \"barpolar\"}], \"carpet\": [{\"aaxis\": {\"endlinecolor\": \"#2a3f5f\", \"gridcolor\": \"white\", \"linecolor\": \"white\", \"minorgridcolor\": \"white\", \"startlinecolor\": \"#2a3f5f\"}, \"baxis\": {\"endlinecolor\": \"#2a3f5f\", \"gridcolor\": \"white\", \"linecolor\": \"white\", \"minorgridcolor\": \"white\", \"startlinecolor\": \"#2a3f5f\"}, \"type\": \"carpet\"}], \"choropleth\": [{\"colorbar\": {\"outlinewidth\": 0, \"ticks\": \"\"}, \"type\": \"choropleth\"}], \"contour\": [{\"colorbar\": {\"outlinewidth\": 0, \"ticks\": \"\"}, \"colorscale\": [[0.0, \"#0d0887\"], [0.1111111111111111, \"#46039f\"], [0.2222222222222222, \"#7201a8\"], [0.3333333333333333, \"#9c179e\"], [0.4444444444444444, \"#bd3786\"], [0.5555555555555556, \"#d8576b\"], [0.6666666666666666, \"#ed7953\"], [0.7777777777777778, \"#fb9f3a\"], [0.8888888888888888, \"#fdca26\"], [1.0, \"#f0f921\"]], \"type\": \"contour\"}], \"contourcarpet\": [{\"colorbar\": {\"outlinewidth\": 0, \"ticks\": \"\"}, \"type\": \"contourcarpet\"}], \"heatmap\": [{\"colorbar\": {\"outlinewidth\": 0, \"ticks\": \"\"}, \"colorscale\": [[0.0, \"#0d0887\"], [0.1111111111111111, \"#46039f\"], [0.2222222222222222, \"#7201a8\"], [0.3333333333333333, \"#9c179e\"], [0.4444444444444444, \"#bd3786\"], [0.5555555555555556, \"#d8576b\"], [0.6666666666666666, \"#ed7953\"], [0.7777777777777778, \"#fb9f3a\"], [0.8888888888888888, \"#fdca26\"], [1.0, \"#f0f921\"]], \"type\": \"heatmap\"}], \"heatmapgl\": [{\"colorbar\": {\"outlinewidth\": 0, \"ticks\": \"\"}, \"colorscale\": [[0.0, \"#0d0887\"], [0.1111111111111111, \"#46039f\"], [0.2222222222222222, \"#7201a8\"], [0.3333333333333333, \"#9c179e\"], [0.4444444444444444, \"#bd3786\"], [0.5555555555555556, \"#d8576b\"], [0.6666666666666666, \"#ed7953\"], [0.7777777777777778, \"#fb9f3a\"], [0.8888888888888888, \"#fdca26\"], [1.0, \"#f0f921\"]], \"type\": \"heatmapgl\"}], \"histogram\": [{\"marker\": {\"colorbar\": {\"outlinewidth\": 0, \"ticks\": \"\"}}, \"type\": \"histogram\"}], \"histogram2d\": [{\"colorbar\": {\"outlinewidth\": 0, \"ticks\": \"\"}, \"colorscale\": [[0.0, \"#0d0887\"], [0.1111111111111111, \"#46039f\"], [0.2222222222222222, \"#7201a8\"], [0.3333333333333333, \"#9c179e\"], [0.4444444444444444, \"#bd3786\"], [0.5555555555555556, \"#d8576b\"], [0.6666666666666666, \"#ed7953\"], [0.7777777777777778, \"#fb9f3a\"], [0.8888888888888888, \"#fdca26\"], [1.0, \"#f0f921\"]], \"type\": \"histogram2d\"}], \"histogram2dcontour\": [{\"colorbar\": {\"outlinewidth\": 0, \"ticks\": \"\"}, \"colorscale\": [[0.0, \"#0d0887\"], [0.1111111111111111, \"#46039f\"], [0.2222222222222222, \"#7201a8\"], [0.3333333333333333, \"#9c179e\"], [0.4444444444444444, \"#bd3786\"], [0.5555555555555556, \"#d8576b\"], [0.6666666666666666, \"#ed7953\"], [0.7777777777777778, \"#fb9f3a\"], [0.8888888888888888, \"#fdca26\"], [1.0, \"#f0f921\"]], \"type\": \"histogram2dcontour\"}], \"mesh3d\": [{\"colorbar\": {\"outlinewidth\": 0, \"ticks\": \"\"}, \"type\": \"mesh3d\"}], \"parcoords\": [{\"line\": {\"colorbar\": {\"outlinewidth\": 0, \"ticks\": \"\"}}, \"type\": \"parcoords\"}], \"pie\": [{\"automargin\": true, \"type\": \"pie\"}], \"scatter\": [{\"marker\": {\"colorbar\": {\"outlinewidth\": 0, \"ticks\": \"\"}}, \"type\": \"scatter\"}], \"scatter3d\": [{\"line\": {\"colorbar\": {\"outlinewidth\": 0, \"ticks\": \"\"}}, \"marker\": {\"colorbar\": {\"outlinewidth\": 0, \"ticks\": \"\"}}, \"type\": \"scatter3d\"}], \"scattercarpet\": [{\"marker\": {\"colorbar\": {\"outlinewidth\": 0, \"ticks\": \"\"}}, \"type\": \"scattercarpet\"}], \"scattergeo\": [{\"marker\": {\"colorbar\": {\"outlinewidth\": 0, \"ticks\": \"\"}}, \"type\": \"scattergeo\"}], \"scattergl\": [{\"marker\": {\"colorbar\": {\"outlinewidth\": 0, \"ticks\": \"\"}}, \"type\": \"scattergl\"}], \"scattermapbox\": [{\"marker\": {\"colorbar\": {\"outlinewidth\": 0, \"ticks\": \"\"}}, \"type\": \"scattermapbox\"}], \"scatterpolar\": [{\"marker\": {\"colorbar\": {\"outlinewidth\": 0, \"ticks\": \"\"}}, \"type\": \"scatterpolar\"}], \"scatterpolargl\": [{\"marker\": {\"colorbar\": {\"outlinewidth\": 0, \"ticks\": \"\"}}, \"type\": \"scatterpolargl\"}], \"scatterternary\": [{\"marker\": {\"colorbar\": {\"outlinewidth\": 0, \"ticks\": \"\"}}, \"type\": \"scatterternary\"}], \"surface\": [{\"colorbar\": {\"outlinewidth\": 0, \"ticks\": \"\"}, \"colorscale\": [[0.0, \"#0d0887\"], [0.1111111111111111, \"#46039f\"], [0.2222222222222222, \"#7201a8\"], [0.3333333333333333, \"#9c179e\"], [0.4444444444444444, \"#bd3786\"], [0.5555555555555556, \"#d8576b\"], [0.6666666666666666, \"#ed7953\"], [0.7777777777777778, \"#fb9f3a\"], [0.8888888888888888, \"#fdca26\"], [1.0, \"#f0f921\"]], \"type\": \"surface\"}], \"table\": [{\"cells\": {\"fill\": {\"color\": \"#EBF0F8\"}, \"line\": {\"color\": \"white\"}}, \"header\": {\"fill\": {\"color\": \"#C8D4E3\"}, \"line\": {\"color\": \"white\"}}, \"type\": \"table\"}]}, \"layout\": {\"annotationdefaults\": {\"arrowcolor\": \"#2a3f5f\", \"arrowhead\": 0, \"arrowwidth\": 1}, \"coloraxis\": {\"colorbar\": {\"outlinewidth\": 0, \"ticks\": \"\"}}, \"colorscale\": {\"diverging\": [[0, \"#8e0152\"], [0.1, \"#c51b7d\"], [0.2, \"#de77ae\"], [0.3, \"#f1b6da\"], [0.4, \"#fde0ef\"], [0.5, \"#f7f7f7\"], [0.6, \"#e6f5d0\"], [0.7, \"#b8e186\"], [0.8, \"#7fbc41\"], [0.9, \"#4d9221\"], [1, \"#276419\"]], \"sequential\": [[0.0, \"#0d0887\"], [0.1111111111111111, \"#46039f\"], [0.2222222222222222, \"#7201a8\"], [0.3333333333333333, \"#9c179e\"], [0.4444444444444444, \"#bd3786\"], [0.5555555555555556, \"#d8576b\"], [0.6666666666666666, \"#ed7953\"], [0.7777777777777778, \"#fb9f3a\"], [0.8888888888888888, \"#fdca26\"], [1.0, \"#f0f921\"]], \"sequentialminus\": [[0.0, \"#0d0887\"], [0.1111111111111111, \"#46039f\"], [0.2222222222222222, \"#7201a8\"], [0.3333333333333333, \"#9c179e\"], [0.4444444444444444, \"#bd3786\"], [0.5555555555555556, \"#d8576b\"], [0.6666666666666666, \"#ed7953\"], [0.7777777777777778, \"#fb9f3a\"], [0.8888888888888888, \"#fdca26\"], [1.0, \"#f0f921\"]]}, \"colorway\": [\"#636efa\", \"#EF553B\", \"#00cc96\", \"#ab63fa\", \"#FFA15A\", \"#19d3f3\", \"#FF6692\", \"#B6E880\", \"#FF97FF\", \"#FECB52\"], \"font\": {\"color\": \"#2a3f5f\"}, \"geo\": {\"bgcolor\": \"white\", \"lakecolor\": \"white\", \"landcolor\": \"#E5ECF6\", \"showlakes\": true, \"showland\": true, \"subunitcolor\": \"white\"}, \"hoverlabel\": {\"align\": \"left\"}, \"hovermode\": \"closest\", \"mapbox\": {\"style\": \"light\"}, \"paper_bgcolor\": \"white\", \"plot_bgcolor\": \"#E5ECF6\", \"polar\": {\"angularaxis\": {\"gridcolor\": \"white\", \"linecolor\": \"white\", \"ticks\": \"\"}, \"bgcolor\": \"#E5ECF6\", \"radialaxis\": {\"gridcolor\": \"white\", \"linecolor\": \"white\", \"ticks\": \"\"}}, \"scene\": {\"xaxis\": {\"backgroundcolor\": \"#E5ECF6\", \"gridcolor\": \"white\", \"gridwidth\": 2, \"linecolor\": \"white\", \"showbackground\": true, \"ticks\": \"\", \"zerolinecolor\": \"white\"}, \"yaxis\": {\"backgroundcolor\": \"#E5ECF6\", \"gridcolor\": \"white\", \"gridwidth\": 2, \"linecolor\": \"white\", \"showbackground\": true, \"ticks\": \"\", \"zerolinecolor\": \"white\"}, \"zaxis\": {\"backgroundcolor\": \"#E5ECF6\", \"gridcolor\": \"white\", \"gridwidth\": 2, \"linecolor\": \"white\", \"showbackground\": true, \"ticks\": \"\", \"zerolinecolor\": \"white\"}}, \"shapedefaults\": {\"line\": {\"color\": \"#2a3f5f\"}}, \"ternary\": {\"aaxis\": {\"gridcolor\": \"white\", \"linecolor\": \"white\", \"ticks\": \"\"}, \"baxis\": {\"gridcolor\": \"white\", \"linecolor\": \"white\", \"ticks\": \"\"}, \"bgcolor\": \"#E5ECF6\", \"caxis\": {\"gridcolor\": \"white\", \"linecolor\": \"white\", \"ticks\": \"\"}}, \"title\": {\"x\": 0.05}, \"xaxis\": {\"automargin\": true, \"gridcolor\": \"white\", \"linecolor\": \"white\", \"ticks\": \"\", \"title\": {\"standoff\": 15}, \"zerolinecolor\": \"white\", \"zerolinewidth\": 2}, \"yaxis\": {\"automargin\": true, \"gridcolor\": \"white\", \"linecolor\": \"white\", \"ticks\": \"\", \"title\": {\"standoff\": 15}, \"zerolinecolor\": \"white\", \"zerolinewidth\": 2}}}, \"xaxis\": {\"anchor\": \"y\", \"domain\": [0.0, 1.0], \"title\": {\"text\": \"name\"}}, \"yaxis\": {\"anchor\": \"x\", \"domain\": [0.0, 1.0], \"title\": {\"text\": \"minutes_played\"}}},\n",
              "                        {\"responsive\": true}\n",
              "                    ).then(function(){\n",
              "                            \n",
              "var gd = document.getElementById('333560be-b4ef-4f52-abe2-3cd547239ddb');\n",
              "var x = new MutationObserver(function (mutations, observer) {{\n",
              "        var display = window.getComputedStyle(gd).display;\n",
              "        if (!display || display === 'none') {{\n",
              "            console.log([gd, 'removed!']);\n",
              "            Plotly.purge(gd);\n",
              "            observer.disconnect();\n",
              "        }}\n",
              "}});\n",
              "\n",
              "// Listen for the removal of the full notebook cells\n",
              "var notebookContainer = gd.closest('#notebook-container');\n",
              "if (notebookContainer) {{\n",
              "    x.observe(notebookContainer, {childList: true});\n",
              "}}\n",
              "\n",
              "// Listen for the clearing of the current output cell\n",
              "var outputEl = gd.closest('.output');\n",
              "if (outputEl) {{\n",
              "    x.observe(outputEl, {childList: true});\n",
              "}}\n",
              "\n",
              "                        })\n",
              "                };\n",
              "                \n",
              "            </script>\n",
              "        </div>\n",
              "</body>\n",
              "</html>"
            ]
          },
          "metadata": {
            "tags": []
          }
        }
      ]
    },
    {
      "cell_type": "code",
      "metadata": {
        "id": "T7NobI-4jsEZ"
      },
      "source": [
        "##Average Staitistics Per 90 Minutes for players\n",
        "indian_forwards[\"goalsPer90\"] = indian_forwards[\"events.goals\"].divide(indian_forwards[\"minutes_played\"]).multiply(90)\n",
        "indian_midfielders[\"goalsPer90\"] = indian_midfielders[\"events.goals\"].divide(indian_midfielders[\"minutes_played\"]).multiply(90)\n",
        "indian_defenders[\"goalsPer90\"] = indian_defenders[\"events.goals\"].divide(indian_defenders[\"minutes_played\"]).multiply(90)"
      ],
      "execution_count": 30,
      "outputs": []
    },
    {
      "cell_type": "code",
      "metadata": {
        "id": "KeJnK9_Jkv8h"
      },
      "source": [
        "indian_forwards = indian_forwards[indian_forwards[\"minutes_played\"] > 0]\n",
        "indian_midfielders = indian_midfielders[indian_midfielders[\"minutes_played\"] > 0]\n",
        "indian_defenders = indian_defenders[indian_defenders[\"minutes_played\"] > 0]"
      ],
      "execution_count": 31,
      "outputs": []
    },
    {
      "cell_type": "code",
      "metadata": {
        "id": "ZwRX0ucJlmY4"
      },
      "source": [
        "indian_forwards[\"assistsPer90\"] = indian_forwards[\"events.assists\"].divide(indian_forwards[\"minutes_played\"]).multiply(90)\n",
        "indian_forwards[\"shots_on_targetPer90\"] = indian_forwards[\"events.shots_on_target\"].divide(indian_forwards[\"minutes_played\"]).multiply(90)"
      ],
      "execution_count": 32,
      "outputs": []
    },
    {
      "cell_type": "code",
      "metadata": {
        "id": "BjwNGoByll8Y"
      },
      "source": [
        "indian_midfielders[\"assistsPer90\"] = indian_midfielders[\"events.assists\"].divide(indian_midfielders[\"minutes_played\"]).multiply(90)\n",
        "indian_midfielders[\"shots_on_targetPer90\"] = indian_midfielders[\"events.shots_on_target\"].divide(indian_midfielders[\"minutes_played\"]).multiply(90)"
      ],
      "execution_count": 33,
      "outputs": []
    },
    {
      "cell_type": "code",
      "metadata": {
        "id": "ktGPWwsl8YJH"
      },
      "source": [
        "indian_defenders[\"assistsPer90\"] = indian_defenders[\"events.assists\"].divide(indian_defenders[\"minutes_played\"]).multiply(90)\n",
        "indian_defenders[\"shots_on_targetPer90\"] = indian_defenders[\"events.shots_on_target\"].divide(indian_defenders[\"minutes_played\"]).multiply(90)"
      ],
      "execution_count": 34,
      "outputs": []
    },
    {
      "cell_type": "code",
      "metadata": {
        "id": "GTIPwbHnmACk"
      },
      "source": [
        "per90Cols = [\"events.goals\", \"events.assists\", \"events.shots\", \"events.shots_on_target\", \"events.chances_created\",  \n",
        "             \"events.fouls_suffered\", \"touches.total\", 'touches.aerial_duel.won']"
      ],
      "execution_count": 36,
      "outputs": []
    },
    {
      "cell_type": "code",
      "metadata": {
        "id": "bmT_8sSpmNdF"
      },
      "source": [
        "for col in per90Cols:\n",
        "    indian_forwards[col + \"Per90\"] = indian_forwards[col].divide(indian_forwards[\"minutes_played\"]).multiply(90)\n",
        "    indian_midfielders[col + \"Per90\"] = indian_midfielders[col].divide(indian_midfielders[\"minutes_played\"]).multiply(90)\n",
        "    indian_defenders[col + \"Per90\"] = indian_defenders[col].divide(indian_defenders[\"minutes_played\"]).multiply(90)"
      ],
      "execution_count": 37,
      "outputs": []
    },
    {
      "cell_type": "code",
      "metadata": {
        "colab": {
          "base_uri": "https://localhost:8080/"
        },
        "id": "LvzchPFwmgh9",
        "outputId": "fc3da184-3efb-4cc9-d80d-f13e41efeafa"
      },
      "source": [
        "cols_for_radar = []\n",
        "for i in per90Cols:\n",
        "    cols_for_radar.append(i + \"Per90\")\n",
        "print(cols_for_radar)"
      ],
      "execution_count": 38,
      "outputs": [
        {
          "output_type": "stream",
          "text": [
            "['events.goalsPer90', 'events.assistsPer90', 'events.shotsPer90', 'events.shots_on_targetPer90', 'events.chances_createdPer90', 'events.fouls_sufferedPer90', 'touches.totalPer90', 'touches.aerial_duel.wonPer90']\n"
          ],
          "name": "stdout"
        }
      ]
    },
    {
      "cell_type": "code",
      "metadata": {
        "colab": {
          "base_uri": "https://localhost:8080/"
        },
        "id": "bbt3YawTmoJ0",
        "outputId": "45cf51e6-1bb3-4a85-8862-3a987ba0d855"
      },
      "source": [
        "[i + \"Per90\" for i in per90Cols]"
      ],
      "execution_count": 40,
      "outputs": [
        {
          "output_type": "execute_result",
          "data": {
            "text/plain": [
              "['events.goalsPer90',\n",
              " 'events.assistsPer90',\n",
              " 'events.shotsPer90',\n",
              " 'events.shots_on_targetPer90',\n",
              " 'events.chances_createdPer90',\n",
              " 'events.fouls_sufferedPer90',\n",
              " 'touches.totalPer90',\n",
              " 'touches.aerial_duel.wonPer90']"
            ]
          },
          "metadata": {
            "tags": []
          },
          "execution_count": 40
        }
      ]
    },
    {
      "cell_type": "code",
      "metadata": {
        "colab": {
          "base_uri": "https://localhost:8080/"
        },
        "id": "Hj6SQhIumri8",
        "outputId": "2815c362-c98a-4883-a705-226c84eabd79"
      },
      "source": [
        "cols_for_radar = [i + \"Per90\" for i in per90Cols] #Initialising cols_for_radar to create variable for each of these statistics \n",
        "print(cols_for_radar)"
      ],
      "execution_count": 41,
      "outputs": [
        {
          "output_type": "stream",
          "text": [
            "['events.goalsPer90', 'events.assistsPer90', 'events.shotsPer90', 'events.shots_on_targetPer90', 'events.chances_createdPer90', 'events.fouls_sufferedPer90', 'touches.totalPer90', 'touches.aerial_duel.wonPer90']\n"
          ],
          "name": "stdout"
        }
      ]
    },
    {
      "cell_type": "code",
      "metadata": {
        "id": "bMgmFIkWoNEH"
      },
      "source": [
        ""
      ],
      "execution_count": null,
      "outputs": []
    },
    {
      "cell_type": "markdown",
      "metadata": {
        "id": "RIHjGnW_oUKI"
      },
      "source": [
        "Plotting Sunil Chettris Performance Per90 on a radar plot"
      ]
    },
    {
      "cell_type": "code",
      "metadata": {
        "colab": {
          "base_uri": "https://localhost:8080/"
        },
        "id": "eUZjO9MBobET",
        "outputId": "509fd485-20fc-42fa-f314-0640dc27b31a"
      },
      "source": [
        "indian_forwards.loc[(indian_forwards[\"id\"] == 19150), cols_for_radar].sum()"
      ],
      "execution_count": 42,
      "outputs": [
        {
          "output_type": "execute_result",
          "data": {
            "text/plain": [
              "events.goalsPer90                0.931871\n",
              "events.assistsPer90              0.100615\n",
              "events.shotsPer90                4.943379\n",
              "events.shots_on_targetPer90      2.056456\n",
              "events.chances_createdPer90      1.989116\n",
              "events.fouls_sufferedPer90       3.072699\n",
              "touches.totalPer90              78.130668\n",
              "touches.aerial_duel.wonPer90     1.963568\n",
              "dtype: float64"
            ]
          },
          "metadata": {
            "tags": []
          },
          "execution_count": 42
        }
      ]
    },
    {
      "cell_type": "code",
      "metadata": {
        "id": "BcHkh7q3oeLP"
      },
      "source": [
        "#Scaling Values for easier comparison\n",
        "\n",
        "from sklearn.preprocessing import MinMaxScaler\n",
        "scaler = MinMaxScaler()\n",
        "indian_forwards[cols_for_radar] = scaler.fit_transform(indian_forwards[cols_for_radar])\n",
        "indian_midfielders[cols_for_radar] = scaler.fit_transform(indian_midfielders[cols_for_radar])\n",
        "indian_defenders[cols_for_radar] = scaler.fit_transform(indian_defenders[cols_for_radar])\n"
      ],
      "execution_count": 45,
      "outputs": []
    },
    {
      "cell_type": "code",
      "metadata": {
        "colab": {
          "base_uri": "https://localhost:8080/"
        },
        "id": "8CszyXA_ohhQ",
        "outputId": "9f8f0087-07c5-46f5-e281-0465ade6a8eb"
      },
      "source": [
        "indian_forwards[cols_for_radar].max()\n",
        "indian_midfielders[cols_for_radar].max()\n",
        "indian_defenders[cols_for_radar].max()"
      ],
      "execution_count": 46,
      "outputs": [
        {
          "output_type": "execute_result",
          "data": {
            "text/plain": [
              "events.goalsPer90               1.0\n",
              "events.assistsPer90             1.0\n",
              "events.shotsPer90               1.0\n",
              "events.shots_on_targetPer90     1.0\n",
              "events.chances_createdPer90     1.0\n",
              "events.fouls_sufferedPer90      1.0\n",
              "touches.totalPer90              1.0\n",
              "touches.aerial_duel.wonPer90    1.0\n",
              "dtype: float64"
            ]
          },
          "metadata": {
            "tags": []
          },
          "execution_count": 46
        }
      ]
    },
    {
      "cell_type": "code",
      "metadata": {
        "id": "lCVRo-j6cScB",
        "colab": {
          "base_uri": "https://localhost:8080/"
        },
        "outputId": "a69cf7f0-3933-4dea-9516-4075201b5517"
      },
      "source": [
        "#Plotting Sunil Chettri's Radar Plot as a test\n",
        "indian_forwards.loc[(indian_forwards[\"id\"] == 19150), cols_for_radar].sum()"
      ],
      "execution_count": 47,
      "outputs": [
        {
          "output_type": "execute_result",
          "data": {
            "text/plain": [
              "events.goalsPer90               0.339098\n",
              "events.assistsPer90             0.016769\n",
              "events.shotsPer90               0.164779\n",
              "events.shots_on_targetPer90     0.137097\n",
              "events.chances_createdPer90     0.132608\n",
              "events.fouls_sufferedPer90      0.486511\n",
              "touches.totalPer90              0.161714\n",
              "touches.aerial_duel.wonPer90    0.506164\n",
              "dtype: float64"
            ]
          },
          "metadata": {
            "tags": []
          },
          "execution_count": 47
        }
      ]
    },
    {
      "cell_type": "code",
      "metadata": {
        "id": "0ISgTydLqgcR"
      },
      "source": [
        "#Sunil Chettri's Polar Plot\n",
        "fig = px.line_polar(indian_forwards, r=indian_forwards.loc[(indian_forwards[\"id\"] == 19150), cols_for_radar].sum(),\n",
        "                    theta=cols_for_radar, line_close=True)\n",
        "fig.update_traces(fill='toself')\n",
        "fig.show()"
      ],
      "execution_count": null,
      "outputs": []
    },
    {
      "cell_type": "markdown",
      "metadata": {
        "id": "q4U5izK5rHO8"
      },
      "source": [
        "Plotting Per90 stats for defenders, midfielders and forwards. Also comparing all the forwards with Sunil Chettri's Polar Plot to analyze the his rival in the ISL"
      ]
    },
    {
      "cell_type": "code",
      "metadata": {
        "id": "ig2XMIWfrJNf"
      },
      "source": [
        "for i, row in indian_forwards.iterrows():\n",
        "    print(\"Index location -->\", i, \"\\n\")\n",
        "    print(row.values, \"\\n\")"
      ],
      "execution_count": null,
      "outputs": []
    },
    {
      "cell_type": "code",
      "metadata": {
        "id": "Rc-9eoBgs_qj"
      },
      "source": [
        "fig = px.line_polar(indian_forwards, r=indian_forwards.loc[(indian_forwards[\"id\"] == row[\"id\"]), cols_for_radar].sum(),\n",
        "                    theta=cols_for_radar, line_close=True)\n",
        "fig.update_traces(fill='toself')\n",
        "fig.show()"
      ],
      "execution_count": null,
      "outputs": []
    },
    {
      "cell_type": "code",
      "metadata": {
        "id": "qEiRK76wr95g"
      },
      "source": [
        "for i, row in indian_midfielders.iterrows():\n",
        "    print(\"Index location -->\", i, \"\\n\")\n",
        "    print(row.values, \"\\n\")"
      ],
      "execution_count": null,
      "outputs": []
    },
    {
      "cell_type": "code",
      "metadata": {
        "id": "ORhbR3PotAzV"
      },
      "source": [
        "fig = px.line_polar(indian_midfielders, r=indian_midfielders.loc[(indian_midfielders[\"id\"] == row[\"id\"]), cols_for_radar].sum(),\n",
        "                    theta=cols_for_radar, line_close=True)\n",
        "fig.update_traces(fill='toself')\n",
        "fig.show()"
      ],
      "execution_count": null,
      "outputs": []
    },
    {
      "cell_type": "code",
      "metadata": {
        "id": "hxlLvR9ur6Co"
      },
      "source": [
        "for i, row in indian_defenders.iterrows():\n",
        "    print(\"Index location -->\", i, \"\\n\")\n",
        "    print(row.values, \"\\n\")"
      ],
      "execution_count": null,
      "outputs": []
    },
    {
      "cell_type": "code",
      "metadata": {
        "id": "5rf_stIxsC-M"
      },
      "source": [
        "fig = px.line_polar(indian_defenders, r=indian_defenders.loc[(indian_defenders[\"id\"] == row[\"id\"]), cols_for_radar].sum(),\n",
        "                    theta=cols_for_radar, line_close=True)\n",
        "fig.update_traces(fill='toself')\n",
        "fig.show()"
      ],
      "execution_count": null,
      "outputs": []
    },
    {
      "cell_type": "code",
      "metadata": {
        "id": "79XFWV9mtikE"
      },
      "source": [
        "ind_fwds_id_names = indian_forwards.drop_duplicates(subset=[\"id\"])[[\"id\", \"name\"]]\n",
        "ind_md_id_names = indian_midfielders.drop_duplicates(subset=[\"id\"])[[\"id\", \"name\"]]\n",
        "ind_def_id_names = indian_defenders.drop_duplicates(subset=[\"id\"])[[\"id\", \"name\"]]"
      ],
      "execution_count": 61,
      "outputs": []
    },
    {
      "cell_type": "code",
      "metadata": {
        "id": "YwH_uLMotw0p"
      },
      "source": [
        "isl_max = indian_forwards[cols_for_radar].max().max()\n",
        "isl_max = indian_midfielders[cols_for_radar].max().max()\n",
        "isl_max = indian_defenders[cols_for_radar].max().max()"
      ],
      "execution_count": 65,
      "outputs": []
    },
    {
      "cell_type": "code",
      "metadata": {
        "id": "yRPtBrZ6t362"
      },
      "source": [
        "import plotly.graph_objects as go"
      ],
      "execution_count": 63,
      "outputs": []
    },
    {
      "cell_type": "code",
      "metadata": {
        "id": "oATOZli-uDuW"
      },
      "source": [
        "#Defenders\n",
        "for i, row in ind_def_id_names.iterrows():\n",
        "    print(row[\"name\"])\n",
        "    # Initiate the plotly go figure\n",
        "    fig = go.Figure()\n",
        "    # Add Radar plots for different players:\n",
        "    fig.add_trace(go.Scatterpolar(\n",
        "        r=indian_defenders.loc[(indian_defenders[\"id\"] == row[\"id\"]), cols_for_radar].sum(),\n",
        "        theta=cols_for_radar,\n",
        "        fill='toself',\n",
        "        name=row[\"name\"]))\n",
        "    # Additional properties for the plot:\n",
        "    fig.update_layout(\n",
        "        title=row[\"name\"],\n",
        "    polar=dict(\n",
        "        radialaxis=dict(\n",
        "        visible=True,\n",
        "        range=[0, isl_max]\n",
        "        )),\n",
        "    showlegend=True\n",
        "    )\n",
        "    fig.show()"
      ],
      "execution_count": null,
      "outputs": []
    },
    {
      "cell_type": "code",
      "metadata": {
        "id": "xIwZ_QBguPYT"
      },
      "source": [
        "#Midfielders\n",
        "for i, row in ind_md_id_names.iterrows():\n",
        "    # Initiate the plotly go figure\n",
        "    fig = go.Figure()\n",
        "    # Add Radar plots for different players:\n",
        "    fig.add_trace(go.Scatterpolar(\n",
        "        r=indian_midfielders.loc[(indian_midfielders[\"id\"] == row[\"id\"]), cols_for_radar].sum(),\n",
        "        theta=cols_for_radar,\n",
        "        fill='toself',\n",
        "        name=row[\"name\"]))\n",
        "    # Additional properties for the plot:\n",
        "    fig.update_layout(\n",
        "        title=row[\"name\"],\n",
        "    polar=dict(\n",
        "        radialaxis=dict(\n",
        "        visible=True,\n",
        "        range=[0, isl_max]\n",
        "        )),\n",
        "    showlegend=True\n",
        "    )\n",
        "    fig.show()"
      ],
      "execution_count": null,
      "outputs": []
    },
    {
      "cell_type": "code",
      "metadata": {
        "id": "lnX-CFTRvLZG"
      },
      "source": [
        "#Forwards vs Sunil Chettri\n",
        "for i, row in ind_fwds_id_names.iterrows():\n",
        "    if row[\"id\"] == 19150:\n",
        "        continue\n",
        "    print(row[\"name\"])\n",
        "    # Initiate the plotly go figure\n",
        "    fig = go.Figure()\n",
        "    # Add Radar plots for different players:\n",
        "    fig.add_trace(go.Scatterpolar(\n",
        "        r=indian_forwards.loc[(indian_forwards[\"id\"] == 19150), cols_for_radar].sum(),\n",
        "        theta=cols_for_radar,\n",
        "        fill='toself',\n",
        "        name='Sunil Chhetri'))\n",
        "    fig.add_trace(go.Scatterpolar(\n",
        "        r=indian_forwards.loc[(indian_forwards[\"id\"] == row[\"id\"]), cols_for_radar].sum(),\n",
        "        theta=cols_for_radar,\n",
        "        fill='toself',\n",
        "        name=row[\"name\"]))\n",
        "    # Additional properties for the plot:\n",
        "    fig.update_layout(\n",
        "        title=\"Sunil Chhetri vs \" + row[\"name\"],\n",
        "    polar=dict(\n",
        "        radialaxis=dict(\n",
        "        visible=True,\n",
        "        range=[0, isl_max]\n",
        "        )),\n",
        "    showlegend=True\n",
        "    )\n",
        "    fig.show()"
      ],
      "execution_count": null,
      "outputs": []
    },
    {
      "cell_type": "markdown",
      "metadata": {
        "id": "tkKwSOCTypou"
      },
      "source": [
        "Read.Me"
      ]
    },
    {
      "cell_type": "markdown",
      "metadata": {
        "id": "yKf76Izbw5tN"
      },
      "source": [
        "The Indian Soccer League is a young league. With a population of about 1.2 Billion people, Indian tallent in football cannot be overlooked. This project aimes to analyse players from the ISL for seasons 2018 and 2019. The data is extracted from a CSV files that is scraped from the ISL's official website. The project shows the number of minutes each player has played. We also classify the players into 3 catergories: Defenders, Midfielders and Forwards. Further, we calculated the Per90 stat for each player in each position and plotted these statistics on a Polar graph to help understand the weaknesses and strengths of different players in different positions. I also compared each forward with Sunil Chettri's who is the leagues top performer in every statistic to analyze who can be his rival or the next player to reach his level. From looking at the graphs, possible future rivals could be Rahim Ali and Ishan Pandita. \n"
      ]
    }
  ]
}